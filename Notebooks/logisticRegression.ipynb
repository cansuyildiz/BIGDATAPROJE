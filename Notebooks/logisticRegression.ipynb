{
 "cells": [
  {
   "cell_type": "code",
   "execution_count": 1,
   "metadata": {
    "collapsed": true
   },
   "outputs": [],
   "source": [
    "import h2o\n",
    "\n",
    "from h2o.estimators.glm import H2OGeneralizedLinearEstimator\n",
    "from h2o.grid.grid_search import H2OGridSearch\n",
    "from __future__ import print_function\n",
    "\n",
    "import findspark \n",
    "findspark.init()\n",
    "from pyspark import SparkConf, SparkContext \n",
    "conf = SparkConf().setAppName(\"LogisticRegression\").setMaster(\"spark://192.168.34.252:7077\").set(\"spark.ui.port\", \"7077\").set(\"spark.executor.memory\", \"1g\").set(\"spark.driver.memory\", \"1g\") \n",
    "#conf = SparkConf().setAppName(\"LogisticRegression\").setMaster(\"local[*]\").set(\"spark.ui.port\", \"7077\").set(\"spark.executor.memory\", \"1g\").set(\"spark.driver.memory\", \"1g\") \n",
    "sc = SparkContext(conf=conf)"
   ]
  },
  {
   "cell_type": "code",
   "execution_count": 2,
   "metadata": {},
   "outputs": [
    {
     "name": "stdout",
     "output_type": "stream",
     "text": [
      "Connecting to H2O server at http://192.168.34.189:54323... successful.\n"
     ]
    },
    {
     "data": {
      "text/html": [
       "<div style=\"overflow:auto\"><table style=\"width:50%\"><tr><td>H2O cluster uptime:</td>\n",
       "<td>16 secs</td></tr>\n",
       "<tr><td>H2O cluster version:</td>\n",
       "<td>3.16.0.4</td></tr>\n",
       "<tr><td>H2O cluster version age:</td>\n",
       "<td>3 months and 22 days !!!</td></tr>\n",
       "<tr><td>H2O cluster name:</td>\n",
       "<td>sparkling-water-cansu.yildiz_app-20180508095951-0255</td></tr>\n",
       "<tr><td>H2O cluster total nodes:</td>\n",
       "<td>2</td></tr>\n",
       "<tr><td>H2O cluster free memory:</td>\n",
       "<td>1.561 Gb</td></tr>\n",
       "<tr><td>H2O cluster total cores:</td>\n",
       "<td>4</td></tr>\n",
       "<tr><td>H2O cluster allowed cores:</td>\n",
       "<td>4</td></tr>\n",
       "<tr><td>H2O cluster status:</td>\n",
       "<td>accepting new members, healthy</td></tr>\n",
       "<tr><td>H2O connection url:</td>\n",
       "<td>http://192.168.34.189:54323</td></tr>\n",
       "<tr><td>H2O connection proxy:</td>\n",
       "<td>None</td></tr>\n",
       "<tr><td>H2O internal security:</td>\n",
       "<td>False</td></tr>\n",
       "<tr><td>H2O API Extensions:</td>\n",
       "<td>Algos, AutoML, Core V3, Core V4</td></tr>\n",
       "<tr><td>Python version:</td>\n",
       "<td>2.7.14 final</td></tr></table></div>"
      ],
      "text/plain": [
       "--------------------------  ----------------------------------------------------\n",
       "H2O cluster uptime:         16 secs\n",
       "H2O cluster version:        3.16.0.4\n",
       "H2O cluster version age:    3 months and 22 days !!!\n",
       "H2O cluster name:           sparkling-water-cansu.yildiz_app-20180508095951-0255\n",
       "H2O cluster total nodes:    2\n",
       "H2O cluster free memory:    1.561 Gb\n",
       "H2O cluster total cores:    4\n",
       "H2O cluster allowed cores:  4\n",
       "H2O cluster status:         accepting new members, healthy\n",
       "H2O connection url:         http://192.168.34.189:54323\n",
       "H2O connection proxy:\n",
       "H2O internal security:      False\n",
       "H2O API Extensions:         Algos, AutoML, Core V3, Core V4\n",
       "Python version:             2.7.14 final\n",
       "--------------------------  ----------------------------------------------------"
      ]
     },
     "metadata": {},
     "output_type": "display_data"
    },
    {
     "name": "stdout",
     "output_type": "stream",
     "text": [
      "\n",
      "Sparkling Water Context:\n",
      " * H2O name: sparkling-water-cansu.yildiz_app-20180508095951-0255\n",
      " * cluster size: 2\n",
      " * list of used nodes:\n",
      "  (executorId, host, port)\n",
      "  ------------------------\n",
      "  (1,192.168.34.250,54321)\n",
      "  (0,192.168.34.251,54321)\n",
      "  ------------------------\n",
      "\n",
      "  Open H2O Flow in browser: http://192.168.34.189:54323 (CMD + click in Mac OSX)\n",
      "\n",
      "    \n",
      "\n",
      "Sparkling Water Context:\n",
      " * H2O name: sparkling-water-cansu.yildiz_app-20180508095951-0255\n",
      " * cluster size: 2\n",
      " * list of used nodes:\n",
      "  (executorId, host, port)\n",
      "  ------------------------\n",
      "  (1,192.168.34.250,54321)\n",
      "  (0,192.168.34.251,54321)\n",
      "  ------------------------\n",
      "\n",
      "  Open H2O Flow in browser: http://192.168.34.189:54323 (CMD + click in Mac OSX)\n",
      "\n",
      "    \n"
     ]
    }
   ],
   "source": [
    "from pysparkling import *\n",
    "from pyspark.sql import SparkSession\n",
    "spark = SparkSession.builder.getOrCreate()\n",
    "h2oContext = H2OContext.getOrCreate(spark)\n",
    "h2oContext.show()"
   ]
  },
  {
   "cell_type": "code",
   "execution_count": 3,
   "metadata": {},
   "outputs": [
    {
     "name": "stdout",
     "output_type": "stream",
     "text": [
      "import and parse data: \n",
      "Parse progress: |█████████████████████████████████████████████████████████| 100%\n",
      "Parse progress: |█████████████████████████████████████████████████████████| 100%\n",
      "Parse progress: |█████████████████████████████████████████████████████████| 100%\n"
     ]
    },
    {
     "data": {
      "text/html": [
       "<table>\n",
       "<thead>\n",
       "<tr><th style=\"text-align: right;\">  PassengerId</th><th style=\"text-align: right;\">  Survived</th><th style=\"text-align: right;\">  Pclass</th><th>Name                                               </th><th>Sex   </th><th style=\"text-align: right;\">  Age</th><th style=\"text-align: right;\">  SibSp</th><th style=\"text-align: right;\">  Parch</th><th style=\"text-align: right;\">  Ticket</th><th style=\"text-align: right;\">   Fare</th><th>Cabin  </th><th>Embarked  </th></tr>\n",
       "</thead>\n",
       "<tbody>\n",
       "<tr><td style=\"text-align: right;\">            1</td><td style=\"text-align: right;\">         0</td><td style=\"text-align: right;\">       3</td><td>Braund, Mr. Owen Harris                            </td><td>male  </td><td style=\"text-align: right;\">   22</td><td style=\"text-align: right;\">      1</td><td style=\"text-align: right;\">      0</td><td style=\"text-align: right;\">     nan</td><td style=\"text-align: right;\"> 7.25  </td><td>       </td><td>S         </td></tr>\n",
       "<tr><td style=\"text-align: right;\">            2</td><td style=\"text-align: right;\">         1</td><td style=\"text-align: right;\">       1</td><td>Cumings, Mrs. John Bradley (Florence Briggs Thayer)</td><td>female</td><td style=\"text-align: right;\">   38</td><td style=\"text-align: right;\">      1</td><td style=\"text-align: right;\">      0</td><td style=\"text-align: right;\">     nan</td><td style=\"text-align: right;\">71.2833</td><td>C85    </td><td>C         </td></tr>\n",
       "<tr><td style=\"text-align: right;\">            3</td><td style=\"text-align: right;\">         1</td><td style=\"text-align: right;\">       3</td><td>Heikkinen, Miss. Laina                             </td><td>female</td><td style=\"text-align: right;\">   26</td><td style=\"text-align: right;\">      0</td><td style=\"text-align: right;\">      0</td><td style=\"text-align: right;\">     nan</td><td style=\"text-align: right;\"> 7.925 </td><td>       </td><td>S         </td></tr>\n",
       "<tr><td style=\"text-align: right;\">            4</td><td style=\"text-align: right;\">         1</td><td style=\"text-align: right;\">       1</td><td>Futrelle, Mrs. Jacques Heath (Lily May Peel)       </td><td>female</td><td style=\"text-align: right;\">   35</td><td style=\"text-align: right;\">      1</td><td style=\"text-align: right;\">      0</td><td style=\"text-align: right;\">  113803</td><td style=\"text-align: right;\">53.1   </td><td>C123   </td><td>S         </td></tr>\n",
       "<tr><td style=\"text-align: right;\">            5</td><td style=\"text-align: right;\">         0</td><td style=\"text-align: right;\">       3</td><td>Allen, Mr. William Henry                           </td><td>male  </td><td style=\"text-align: right;\">   35</td><td style=\"text-align: right;\">      0</td><td style=\"text-align: right;\">      0</td><td style=\"text-align: right;\">  373450</td><td style=\"text-align: right;\"> 8.05  </td><td>       </td><td>S         </td></tr>\n",
       "<tr><td style=\"text-align: right;\">            6</td><td style=\"text-align: right;\">         0</td><td style=\"text-align: right;\">       3</td><td>Moran, Mr. James                                   </td><td>male  </td><td style=\"text-align: right;\">  nan</td><td style=\"text-align: right;\">      0</td><td style=\"text-align: right;\">      0</td><td style=\"text-align: right;\">  330877</td><td style=\"text-align: right;\"> 8.4583</td><td>       </td><td>Q         </td></tr>\n",
       "<tr><td style=\"text-align: right;\">            7</td><td style=\"text-align: right;\">         0</td><td style=\"text-align: right;\">       1</td><td>McCarthy, Mr. Timothy J                            </td><td>male  </td><td style=\"text-align: right;\">   54</td><td style=\"text-align: right;\">      0</td><td style=\"text-align: right;\">      0</td><td style=\"text-align: right;\">   17463</td><td style=\"text-align: right;\">51.8625</td><td>E46    </td><td>S         </td></tr>\n",
       "<tr><td style=\"text-align: right;\">            8</td><td style=\"text-align: right;\">         0</td><td style=\"text-align: right;\">       3</td><td>Palsson, Master. Gosta Leonard                     </td><td>male  </td><td style=\"text-align: right;\">    2</td><td style=\"text-align: right;\">      3</td><td style=\"text-align: right;\">      1</td><td style=\"text-align: right;\">  349909</td><td style=\"text-align: right;\">21.075 </td><td>       </td><td>S         </td></tr>\n",
       "<tr><td style=\"text-align: right;\">            9</td><td style=\"text-align: right;\">         1</td><td style=\"text-align: right;\">       3</td><td>Johnson, Mrs. Oscar W (Elisabeth Vilhelmina Berg)  </td><td>female</td><td style=\"text-align: right;\">   27</td><td style=\"text-align: right;\">      0</td><td style=\"text-align: right;\">      2</td><td style=\"text-align: right;\">  347742</td><td style=\"text-align: right;\">11.1333</td><td>       </td><td>S         </td></tr>\n",
       "<tr><td style=\"text-align: right;\">           10</td><td style=\"text-align: right;\">         1</td><td style=\"text-align: right;\">       2</td><td>Nasser, Mrs. Nicholas (Adele Achem)                </td><td>female</td><td style=\"text-align: right;\">   14</td><td style=\"text-align: right;\">      1</td><td style=\"text-align: right;\">      0</td><td style=\"text-align: right;\">  237736</td><td style=\"text-align: right;\">30.0708</td><td>       </td><td>C         </td></tr>\n",
       "</tbody>\n",
       "</table>"
      ]
     },
     "metadata": {},
     "output_type": "display_data"
    },
    {
     "data": {
      "text/plain": []
     },
     "execution_count": 3,
     "metadata": {},
     "output_type": "execute_result"
    }
   ],
   "source": [
    "print(\"import and parse data: \")\n",
    "data=h2o.import_file(path=\"hdfs://192.168.34.252:9000/ozge/titanic_trainSet.csv\")\n",
    "test=h2o.import_file(path=\"hdfs://192.168.34.252:9000/ozge/titanic_testSet.csv\")\n",
    "testLabels=h2o.import_file(path=\"hdfs://192.168.34.252:9000/ozge/gender_submission.csv\")\n",
    "#data.describe()\n",
    "labelArray=testLabels[1]\n",
    "data.head()"
   ]
  },
  {
   "cell_type": "code",
   "execution_count": 4,
   "metadata": {
    "collapsed": true
   },
   "outputs": [],
   "source": [
    "#split data as validation and train\n",
    "r=data.runif(1234)\n",
    "train=data[r<0.8]\n",
    "validation=data[r>=0.8]"
   ]
  },
  {
   "cell_type": "code",
   "execution_count": 5,
   "metadata": {},
   "outputs": [
    {
     "name": "stdout",
     "output_type": "stream",
     "text": [
      "attribute: Age data type:  real\n",
      "before imputing:  177.0\n",
      "mean of column:  [29.69911764705884]\n",
      "after imputing:  0.0\n",
      "mean of column:  [29.6991176470588]\n",
      "attribute: Ticket data type:  int\n",
      "before imputing:  230.0\n",
      "mean of column:  [260318.5491679275]\n",
      "after imputing:  0.0\n",
      "mean of column:  [260318.5491679276]\n",
      "attribute: Embarked data type:  enum\n",
      "after imputing:  0.0\n",
      "[['0', '1']]\n"
     ]
    }
   ],
   "source": [
    "#Explore data with ----->  #data.types  #data.columns  #data.shape\n",
    "#Then decide which columns(attributes) you are going to use\n",
    "attributes=[\"Pclass\",\"Sex\",\"Age\",\"SibSp\",\"Parch\",\"Ticket\",\"Fare\",\"Embarked\"]  #predictors\n",
    "\n",
    "for x in attributes:\n",
    "    if data[x].isna().sum()>0:\n",
    "        if data.types[x]=='enum':\n",
    "            print(\"attribute:\", x, \"data type: \", data.types[x])\n",
    "            mode_impute=data.impute(column=x,method=\"mode\")\n",
    "            print(\"after imputing: \", data[x].isna().sum())\n",
    "        else:  \n",
    "            #CHECK THE MISSING VALUES\n",
    "            print(\"attribute:\", x, \"data type: \", data.types[x])\n",
    "            print(\"before imputing: \", data[x].isna().sum())\n",
    "            print(\"mean of column: \" , data[x].mean())\n",
    "            #IMPUTE NUMERIC MISSING VALUES\n",
    "            mean_impute=data.impute(column=x,method=\"mean\")     \n",
    "            print(\"after imputing: \", data[x].isna().sum())\n",
    "            print(\"mean of column: \", data[x].mean())\n",
    "\n",
    "#make one column categorical with asfactor() function, making categorical is important for supervised algorithm\n",
    "data['Survived']=data['Survived'].asfactor()\n",
    "print(data['Survived'].levels())"
   ]
  },
  {
   "cell_type": "code",
   "execution_count": 5,
   "metadata": {},
   "outputs": [
    {
     "name": "stdout",
     "output_type": "stream",
     "text": [
      "glm Model Build progress: |███████████████████████████████████████████████| 100%\n",
      "GLM Model: summary\n",
      "\n"
     ]
    },
    {
     "data": {
      "text/html": [
       "<div style=\"overflow:auto\"><table style=\"width:50%\"><tr><td><b></b></td>\n",
       "<td><b>family</b></td>\n",
       "<td><b>link</b></td>\n",
       "<td><b>regularization</b></td>\n",
       "<td><b>number_of_predictors_total</b></td>\n",
       "<td><b>number_of_active_predictors</b></td>\n",
       "<td><b>number_of_iterations</b></td>\n",
       "<td><b>training_frame</b></td></tr>\n",
       "<tr><td></td>\n",
       "<td>binomial</td>\n",
       "<td>logit</td>\n",
       "<td>Elastic Net (alpha = 0.5, lambda = 3.29E-4 )</td>\n",
       "<td>11</td>\n",
       "<td>11</td>\n",
       "<td>4</td>\n",
       "<td>Key_Frame__hdfs___192_168_34_252_9000_ozge_titanic_trainSet.hex</td></tr></table></div>"
      ],
      "text/plain": [
       "    family    link    regularization                                number_of_predictors_total    number_of_active_predictors    number_of_iterations    training_frame\n",
       "--  --------  ------  --------------------------------------------  ----------------------------  -----------------------------  ----------------------  ---------------------------------------------------------------\n",
       "    binomial  logit   Elastic Net (alpha = 0.5, lambda = 3.29E-4 )  11                            11                             4                       Key_Frame__hdfs___192_168_34_252_9000_ozge_titanic_trainSet.hex"
      ]
     },
     "metadata": {},
     "output_type": "display_data"
    },
    {
     "data": {
      "text/plain": []
     },
     "execution_count": 5,
     "metadata": {},
     "output_type": "execute_result"
    }
   ],
   "source": [
    "#DESCRIBE THE ALGORITHM that will be used\n",
    "logisticEstimator = H2OGeneralizedLinearEstimator(family=\"binomial\",missing_values_handling=\"MeanImputation\")\n",
    "logisticEstimator.train(x=[\"Pclass\",\"Sex\",\"Age\",\"SibSp\",\"Parch\",\"Ticket\",\"Fare\",\"Embarked\"],y=\"Survived\",training_frame=data,validation_frame=validation)\n",
    "logisticEstimator.summary()\n",
    "\n"
   ]
  },
  {
   "cell_type": "code",
   "execution_count": 6,
   "metadata": {},
   "outputs": [
    {
     "name": "stdout",
     "output_type": "stream",
     "text": [
      "Confusion Matrix (Act/Pred) for max f1 @ threshold = 0.578255348946: \n"
     ]
    },
    {
     "data": {
      "text/html": [
       "<div style=\"overflow:auto\"><table style=\"width:50%\"><tr><td><b></b></td>\n",
       "<td><b>0</b></td>\n",
       "<td><b>1</b></td>\n",
       "<td><b>Error</b></td>\n",
       "<td><b>Rate</b></td></tr>\n",
       "<tr><td>0</td>\n",
       "<td>497.0</td>\n",
       "<td>52.0</td>\n",
       "<td>0.0947</td>\n",
       "<td> (52.0/549.0)</td></tr>\n",
       "<tr><td>1</td>\n",
       "<td>110.0</td>\n",
       "<td>232.0</td>\n",
       "<td>0.3216</td>\n",
       "<td> (110.0/342.0)</td></tr>\n",
       "<tr><td>Total</td>\n",
       "<td>607.0</td>\n",
       "<td>284.0</td>\n",
       "<td>0.1818</td>\n",
       "<td> (162.0/891.0)</td></tr></table></div>"
      ],
      "text/plain": [
       "       0    1    Error    Rate\n",
       "-----  ---  ---  -------  -------------\n",
       "0      497  52   0.0947   (52.0/549.0)\n",
       "1      110  232  0.3216   (110.0/342.0)\n",
       "Total  607  284  0.1818   (162.0/891.0)"
      ]
     },
     "metadata": {},
     "output_type": "display_data"
    },
    {
     "name": "stdout",
     "output_type": "stream",
     "text": [
      "Confusion Matrix (Act/Pred) for max f1 @ threshold = 0.611656100865: \n"
     ]
    },
    {
     "data": {
      "text/html": [
       "<div style=\"overflow:auto\"><table style=\"width:50%\"><tr><td><b></b></td>\n",
       "<td><b>0</b></td>\n",
       "<td><b>1</b></td>\n",
       "<td><b>Error</b></td>\n",
       "<td><b>Rate</b></td></tr>\n",
       "<tr><td>0</td>\n",
       "<td>96.0</td>\n",
       "<td>6.0</td>\n",
       "<td>0.0588</td>\n",
       "<td> (6.0/102.0)</td></tr>\n",
       "<tr><td>1</td>\n",
       "<td>24.0</td>\n",
       "<td>53.0</td>\n",
       "<td>0.3117</td>\n",
       "<td> (24.0/77.0)</td></tr>\n",
       "<tr><td>Total</td>\n",
       "<td>120.0</td>\n",
       "<td>59.0</td>\n",
       "<td>0.1676</td>\n",
       "<td> (30.0/179.0)</td></tr></table></div>"
      ],
      "text/plain": [
       "       0    1    Error    Rate\n",
       "-----  ---  ---  -------  ------------\n",
       "0      96   6    0.0588   (6.0/102.0)\n",
       "1      24   53   0.3117   (24.0/77.0)\n",
       "Total  120  59   0.1676   (30.0/179.0)"
      ]
     },
     "metadata": {},
     "output_type": "display_data"
    },
    {
     "data": {
      "text/plain": [
       "{u'train': , u'valid': }"
      ]
     },
     "execution_count": 6,
     "metadata": {},
     "output_type": "execute_result"
    }
   ],
   "source": [
    "logisticEstimator.confusion_matrix(train=True, valid=True)   #if you dont put parameters, it uses training data to get confusion matrix\n",
    "#logisticEstimator.confusion_matrices(thresholds=[0.01,0.5,0.99],train=True, valid=True)\n",
    "#dont use this function, when you use, it gives an error : type object 'H2OGeneralizedLinearEstimator' has no attribute 'confusion_matrices'\n",
    "\n",
    "#print(logisticEstimator.logloss(train = True))\n",
    "#logisticEstimator.accuracy(thresholds=None)\n",
    "#print(logisticEstimator.logloss(validation = True))\n",
    "#logisticEstimator.accuracy(thresholds=None, train=True, valid=False, xval=False)\n",
    "#logisticEstimator.auc()\n",
    "#! how to get precision?"
   ]
  },
  {
   "cell_type": "code",
   "execution_count": 8,
   "metadata": {},
   "outputs": [
    {
     "name": "stdout",
     "output_type": "stream",
     "text": [
      "glm prediction progress: |████████████████████████████████████████████████| 100%\n",
      "logistic Regression Predictions: \n"
     ]
    },
    {
     "data": {
      "text/html": [
       "<table>\n",
       "<thead>\n",
       "<tr><th style=\"text-align: right;\">  predict</th><th style=\"text-align: right;\">      p0</th><th style=\"text-align: right;\">       p1</th></tr>\n",
       "</thead>\n",
       "<tbody>\n",
       "<tr><td style=\"text-align: right;\">        0</td><td style=\"text-align: right;\">0.89437 </td><td style=\"text-align: right;\">0.10563  </td></tr>\n",
       "<tr><td style=\"text-align: right;\">        0</td><td style=\"text-align: right;\">0.647539</td><td style=\"text-align: right;\">0.352461 </td></tr>\n",
       "<tr><td style=\"text-align: right;\">        0</td><td style=\"text-align: right;\">0.892659</td><td style=\"text-align: right;\">0.107341 </td></tr>\n",
       "<tr><td style=\"text-align: right;\">        0</td><td style=\"text-align: right;\">0.900708</td><td style=\"text-align: right;\">0.0992924</td></tr>\n",
       "<tr><td style=\"text-align: right;\">        0</td><td style=\"text-align: right;\">0.492318</td><td style=\"text-align: right;\">0.507682 </td></tr>\n",
       "<tr><td style=\"text-align: right;\">        0</td><td style=\"text-align: right;\">0.840763</td><td style=\"text-align: right;\">0.159237 </td></tr>\n",
       "<tr><td style=\"text-align: right;\">        1</td><td style=\"text-align: right;\">0.32098 </td><td style=\"text-align: right;\">0.67902  </td></tr>\n",
       "<tr><td style=\"text-align: right;\">        0</td><td style=\"text-align: right;\">0.80884 </td><td style=\"text-align: right;\">0.19116  </td></tr>\n",
       "<tr><td style=\"text-align: right;\">        1</td><td style=\"text-align: right;\">0.217068</td><td style=\"text-align: right;\">0.782932 </td></tr>\n",
       "<tr><td style=\"text-align: right;\">        0</td><td style=\"text-align: right;\">0.929006</td><td style=\"text-align: right;\">0.0709942</td></tr>\n",
       "</tbody>\n",
       "</table>"
      ]
     },
     "metadata": {},
     "output_type": "display_data"
    },
    {
     "name": "stdout",
     "output_type": "stream",
     "text": [
      "\n"
     ]
    }
   ],
   "source": [
    "pred_logRegr=logisticEstimator.predict(test)\n",
    "print(\"logistic Regression Predictions: \")\n",
    "print(pred_logRegr)\n",
    "result=[]\n",
    "result=pred_logRegr[0]"
   ]
  },
  {
   "cell_type": "code",
   "execution_count": 22,
   "metadata": {},
   "outputs": [
    {
     "data": {
      "text/html": [
       "<table>\n",
       "<thead>\n",
       "<tr><th style=\"text-align: right;\">  predict</th></tr>\n",
       "</thead>\n",
       "<tbody>\n",
       "<tr><td style=\"text-align: right;\">        0</td></tr>\n",
       "</tbody>\n",
       "</table>"
      ]
     },
     "metadata": {},
     "output_type": "display_data"
    },
    {
     "data": {
      "text/plain": []
     },
     "execution_count": 22,
     "metadata": {},
     "output_type": "execute_result"
    }
   ],
   "source": [
    "result[5,:]\n",
    "#result_pd = result.as_data_frame()\n",
    "#labelArray_pd = labelArray.as_data_frame()\n",
    "\n",
    "#result_pd."
   ]
  },
  {
   "cell_type": "code",
   "execution_count": 44,
   "metadata": {
    "scrolled": false
   },
   "outputs": [
    {
     "data": {
      "image/png": "[encoded data removed]",
      "text/plain": [
       "<matplotlib.figure.Figure at 0xc0a89e8>"
      ]
     },
     "metadata": {},
     "output_type": "display_data"
    }
   ],
   "source": [
    "logisticEstimator.std_coef_plot()"
   ]
  },
  {
   "cell_type": "code",
   "execution_count": null,
   "metadata": {
    "collapsed": true
   },
   "outputs": [],
   "source": []
  },
  {
   "cell_type": "code",
   "execution_count": null,
   "metadata": {
    "collapsed": true
   },
   "outputs": [],
   "source": []
  }
 ],
 "metadata": {
  "kernelspec": {
   "display_name": "Python 3",
   "language": "python",
   "name": "python3"
  },
  "language_info": {
   "codemirror_mode": {
    "name": "ipython",
    "version": 3
   },
   "file_extension": ".py",
   "mimetype": "text/x-python",
   "name": "python",
   "nbconvert_exporter": "python",
   "pygments_lexer": "ipython3",
   "version": "3.5.2"
  }
 },
 "nbformat": 4,
 "nbformat_minor": 2
}
